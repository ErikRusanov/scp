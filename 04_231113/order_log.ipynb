{
 "cells": [
  {
   "cell_type": "code",
   "execution_count": 32,
   "id": "9d8af4c2-d213-4230-9212-abc1364c1a03",
   "metadata": {},
   "outputs": [],
   "source": [
    "import ipywidgets as widgets\n",
    "import numpy as np\n",
    "import pandas as pd\n",
    "import plotly.express as px\n",
    "from IPython.core.display_functions import display as ipy_display\n",
    "from IPython.display import clear_output\n",
    "from ipywidgets import Output\n",
    "\n",
    "\n",
    "class OrderLog:\n",
    "    def __init__(self, data):\n",
    "        self.data = data\n",
    "        self.isin_id_dropdown = widgets.Dropdown(options=self.get_unique_values(data, 'isin_id'),\n",
    "                                                 description='ISIN ID:')\n",
    "        self.sess_id_dropdown = widgets.Dropdown(options=self.get_unique_values(data, 'sess_id'),\n",
    "                                                 description='Session ID:')\n",
    "        self.build_button = widgets.Button(description='Build Chart')\n",
    "\n",
    "        self.output_plot = Output()\n",
    "\n",
    "        self.build_button.on_click(self.on_button_click)\n",
    "\n",
    "        ipy_display(self.isin_id_dropdown, self.sess_id_dropdown, self.build_button, self.output_plot)\n",
    "\n",
    "    @staticmethod\n",
    "    def read_data(data_file):\n",
    "        return pd.read_csv(data_file)\n",
    "\n",
    "    @staticmethod\n",
    "    def get_unique_values(df, column):\n",
    "        return df[column].unique()\n",
    "\n",
    "    @staticmethod\n",
    "    def filter_data(df, isin_id, sess_id):\n",
    "        return df[(df['sess_id'] == sess_id) & (df['isin_id'] == isin_id)]\n",
    "\n",
    "    @staticmethod\n",
    "    def process_data(filtered_data):\n",
    "        current_bid = {}\n",
    "        current_ask = {}\n",
    "        bb_ba_history = {}\n",
    "\n",
    "        prices = np.array(filtered_data['price'])\n",
    "        amounts = np.array(filtered_data['amount'])\n",
    "        timestamps = np.array(filtered_data['moment_ns'])\n",
    "        directions = np.array(filtered_data['dir'])\n",
    "        actions = np.array(filtered_data['action'])\n",
    "\n",
    "        best_bid = -1\n",
    "        best_ask = -1\n",
    "\n",
    "        for i in range(len(filtered_data)):\n",
    "            price = prices[i]\n",
    "            amount = amounts[i]\n",
    "            timestamp = timestamps[i]\n",
    "            direction = directions[i]\n",
    "            action = actions[i]\n",
    "\n",
    "            if direction == 1:\n",
    "                if action == 1:\n",
    "                    best_bid = max(best_bid, price)\n",
    "                    current_bid[price] = current_bid.get(price, 0) + amount\n",
    "                elif action in (2, 0):\n",
    "                    current_bid[price] -= amount\n",
    "                    if current_bid[price] == 0:\n",
    "                        del current_bid[price]\n",
    "                        best_bid = max(current_bid, default=-1)\n",
    "            else:\n",
    "                if action == 1:\n",
    "                    best_ask = min(best_ask, price) if best_ask != -1 else price\n",
    "                    current_ask[price] = current_ask.get(price, 0) + amount\n",
    "                elif action in (2, 0):\n",
    "                    current_ask[price] -= amount\n",
    "                    if current_ask[price] == 0:\n",
    "                        del current_ask[price]\n",
    "                        best_ask = min(current_ask, default=-1)\n",
    "\n",
    "                bb_ba_history[timestamp] = {\"best_ask\": best_ask, \"best_bid\": best_bid}\n",
    "\n",
    "        return zip(*((stamp, entry.get(\"best_ask\"), entry.get(\"best_bid\")) for stamp, entry in bb_ba_history.items()))\n",
    "\n",
    "    def on_button_click(self, b):\n",
    "        isin_id = self.isin_id_dropdown.value\n",
    "        sess_id = self.sess_id_dropdown.value\n",
    "\n",
    "        filtered_data = self.filter_data(self.data, isin_id, sess_id)\n",
    "        timestamps, ba, bb = self.process_data(filtered_data)\n",
    "\n",
    "        with self.output_plot:\n",
    "            clear_output(wait=True)\n",
    "            fig = px.line(\n",
    "                x=timestamps,\n",
    "                y=[bb, ba],\n",
    "                title='Order Log',\n",
    "                line_shape='linear',\n",
    "                template='plotly',\n",
    "                color_discrete_sequence=['green', 'red'],\n",
    "                labels={'best_bid': 'Best Bid', 'best_ask': 'Best Ask'}\n",
    "            )\n",
    "            fig.show()\n"
   ]
  },
  {
   "cell_type": "code",
   "execution_count": 30,
   "id": "ba11267d-dbe8-4250-b47d-7e4b8873ed28",
   "metadata": {},
   "outputs": [],
   "source": [
    "data_file_path = \"../data/order_log_20231006150822.csv\"\n",
    "df = pd.read_csv(data_file_path)"
   ]
  },
  {
   "cell_type": "code",
   "execution_count": 29,
   "id": "baaa947e-1ec3-4770-a0cb-53e6dc17bee9",
   "metadata": {},
   "outputs": [
    {
     "data": {
      "application/vnd.jupyter.widget-view+json": {
       "model_id": "3f85143fcae1441ea761e0951f655239",
       "version_major": 2,
       "version_minor": 0
      },
      "text/plain": [
       "Dropdown(description='ISIN ID:', options=(3032021, 3366187), value=3032021)"
      ]
     },
     "metadata": {},
     "output_type": "display_data"
    },
    {
     "data": {
      "application/vnd.jupyter.widget-view+json": {
       "model_id": "9e211e6055ba41479f2734384549c064",
       "version_major": 2,
       "version_minor": 0
      },
      "text/plain": [
       "Dropdown(description='Session ID:', options=(6899, 6900), value=6899)"
      ]
     },
     "metadata": {},
     "output_type": "display_data"
    },
    {
     "data": {
      "application/vnd.jupyter.widget-view+json": {
       "model_id": "a00a116e2355487ab218de3d41b62c51",
       "version_major": 2,
       "version_minor": 0
      },
      "text/plain": [
       "Button(description='Build Chart', style=ButtonStyle())"
      ]
     },
     "metadata": {},
     "output_type": "display_data"
    },
    {
     "data": {
      "application/vnd.jupyter.widget-view+json": {
       "model_id": "7f359f9e056f47ba8fc5339852a66902",
       "version_major": 2,
       "version_minor": 0
      },
      "text/plain": [
       "Output()"
      ]
     },
     "metadata": {},
     "output_type": "display_data"
    }
   ],
   "source": [
    "order_log = OrderLog(df)"
   ]
  }
 ],
 "metadata": {
  "kernelspec": {
   "display_name": "Python 3 (ipykernel)",
   "language": "python",
   "name": "python3"
  },
  "language_info": {
   "codemirror_mode": {
    "name": "ipython",
    "version": 3
   },
   "file_extension": ".py",
   "mimetype": "text/x-python",
   "name": "python",
   "nbconvert_exporter": "python",
   "pygments_lexer": "ipython3",
   "version": "3.10.12"
  }
 },
 "nbformat": 4,
 "nbformat_minor": 5
}
