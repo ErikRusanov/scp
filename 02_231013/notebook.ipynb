{
 "cells": [
  {
   "cell_type": "code",
   "execution_count": 4,
   "id": "43b2db80-2899-462d-bd63-4a073df3f83f",
   "metadata": {},
   "outputs": [
    {
     "data": {
      "application/vnd.jupyter.widget-view+json": {
       "model_id": "78b15c62e8d24a30be756c42cfa202ee",
       "version_major": 2,
       "version_minor": 0
      },
      "text/plain": [
       "interactive(children=(IntSlider(value=100, description='Time', max=150, min=20), FloatSlider(value=1.0, descri…"
      ]
     },
     "metadata": {},
     "output_type": "display_data"
    }
   ],
   "source": [
    "import matplotlib.pyplot as plt\n",
    "import numpy as np\n",
    "from IPython.core.display_functions import display\n",
    "from IPython.display import clear_output\n",
    "from ipywidgets import IntSlider, interactive, FloatSlider, Output\n",
    "\n",
    "\n",
    "class PoissonProcessSimulator:\n",
    "    def __init__(self):\n",
    "        self.interval = IntSlider(value=100, min=20, max=150, step=1, description=\"Time\")\n",
    "        self.param = FloatSlider(value=1, min=0.1, max=2, step=0.1, description=\"λ\")\n",
    "\n",
    "        self.interactive_plot = interactive(\n",
    "            self.update_plot,\n",
    "            interval=self.interval,\n",
    "            param=self.param,\n",
    "        )\n",
    "\n",
    "    @staticmethod\n",
    "    def simulate_process(interval: int, param: float):\n",
    "        segments = []\n",
    "        number = 0\n",
    "        while True:\n",
    "            number += 1\n",
    "            start_time = 0 if not segments else segments[-1][0][1]\n",
    "            end_time = start_time + np.random.exponential(param)\n",
    "            if end_time > interval:\n",
    "                break\n",
    "\n",
    "            segments.append([(start_time, end_time), (number, number)])\n",
    "        return segments\n",
    "\n",
    "    def update_plot(self, interval: int, param: float):\n",
    "        clear_output(wait=True)\n",
    "        output_plot = Output()\n",
    "        with output_plot:\n",
    "            plt.figure(figsize=(10, 6))\n",
    "            for data in self.simulate_process(interval, param):\n",
    "                plt.plot(*data)\n",
    "\n",
    "            plt.xlabel('Time')\n",
    "            plt.ylabel('N')\n",
    "            plt.title(f'Poisson Process λ = {param}')\n",
    "            plt.show()\n",
    "        display(output_plot)\n",
    "\n",
    "\n",
    "if __name__ == \"__main__\":\n",
    "    simulator = PoissonProcessSimulator()\n",
    "    display(simulator.interactive_plot)\n"
   ]
  },
  {
   "cell_type": "code",
   "execution_count": 1,
   "id": "00c6c894-e21c-48de-866f-34cd6901f1ee",
   "metadata": {},
   "outputs": [
    {
     "data": {
      "application/vnd.jupyter.widget-view+json": {
       "model_id": "bc73b34e5def467f9fecf9c39b411efa",
       "version_major": 2,
       "version_minor": 0
      },
      "text/plain": [
       "Output()"
      ]
     },
     "metadata": {},
     "output_type": "display_data"
    }
   ],
   "source": [
    "from collections import deque\n",
    "from enum import Enum\n",
    "\n",
    "import numpy as np\n",
    "from IPython.core.display_functions import display\n",
    "from ipywidgets import Output\n",
    "from matplotlib import pyplot as plt, interactive\n",
    "from pydantic import BaseModel\n",
    "\n",
    "\n",
    "class OrderAction(Enum):\n",
    "    buy: str = \"купить\"\n",
    "    sell: str = \"продать\"\n",
    "\n",
    "\n",
    "class OrderType(Enum):\n",
    "    market: str = \"market\"\n",
    "    limit: str = \"limit\"\n",
    "\n",
    "\n",
    "class Order(BaseModel):\n",
    "    symbol: str\n",
    "    action: OrderAction\n",
    "    type: OrderType\n",
    "    quantity: int\n",
    "    price: int\n",
    "\n",
    "    @staticmethod\n",
    "    def generate_data(symbol: str = \"BTC\") -> dict:\n",
    "        _action = np.random.choice([a for a in OrderAction], p=[0.5, 0.5])\n",
    "        _type = np.random.choice([t for t in OrderType], p=[0.5, 0.5])\n",
    "        _quantity = int(np.random.normal(10, 4))\n",
    "        _price = int(np.random.normal(100, 10))\n",
    "        return {\n",
    "            \"symbol\": symbol,\n",
    "            \"action\": _action,\n",
    "            \"type\": _type,\n",
    "            \"quantity\": _quantity,\n",
    "            \"price\": _price,\n",
    "        }\n",
    "\n",
    "\n",
    "class OrderBookForSymbol(BaseModel):\n",
    "    symbol: str = \"BTC\"\n",
    "    buy: deque[Order] = deque()\n",
    "    sell: deque[Order] = deque()\n",
    "\n",
    "    def display_book(self):\n",
    "        buy_prices = [order.price for order in self.buy]\n",
    "        sell_prices = [order.price for order in self.sell]\n",
    "        buy_quantities = [order.quantity for order in self.buy]\n",
    "        sell_quantities = [order.quantity for order in self.sell]\n",
    "        output_plot = Output()\n",
    "        with output_plot:\n",
    "            fig, ax = plt.subplots(1, 2, figsize=(12, 5))\n",
    "\n",
    "            ax[0].barh(buy_prices, buy_quantities, color='g', alpha=0.7, label='Buy Orders')\n",
    "            ax[0].set_xlabel('Quantity')\n",
    "            ax[0].set_ylabel('Price')\n",
    "            ax[0].set_title('Buy Orders')\n",
    "            ax[0].legend()\n",
    "\n",
    "            ax[1].barh(sell_prices, sell_quantities, color='r', alpha=0.7, label='Sell Orders')\n",
    "            ax[1].set_xlabel('Quantity')\n",
    "            ax[1].set_ylabel('Price')\n",
    "            ax[1].set_title('Sell Orders')\n",
    "            ax[1].legend()\n",
    "\n",
    "            plt.suptitle(f\"Order Book for {self.symbol}\")\n",
    "            plt.tight_layout()\n",
    "            plt.show()\n",
    "        display(output_plot)\n",
    "\n",
    "\n",
    "if __name__ == \"__main__\":\n",
    "    order_book = OrderBookForSymbol()\n",
    "\n",
    "    for _ in range(5):\n",
    "        order_book.buy.append(Order(**Order.generate_data()))\n",
    "\n",
    "    for _ in range(5):\n",
    "        order_book.sell.append(Order(**Order.generate_data()))\n",
    "\n",
    "    order_book.display_book()\n"
   ]
  },
  {
   "cell_type": "code",
   "execution_count": null,
   "id": "2b568ed7-d1ba-4717-8dd6-13602c159951",
   "metadata": {},
   "outputs": [],
   "source": []
  }
 ],
 "metadata": {
  "kernelspec": {
   "display_name": "Python 3 (ipykernel)",
   "language": "python",
   "name": "python3"
  },
  "language_info": {
   "codemirror_mode": {
    "name": "ipython",
    "version": 3
   },
   "file_extension": ".py",
   "mimetype": "text/x-python",
   "name": "python",
   "nbconvert_exporter": "python",
   "pygments_lexer": "ipython3",
   "version": "3.10.12"
  }
 },
 "nbformat": 4,
 "nbformat_minor": 5
}
