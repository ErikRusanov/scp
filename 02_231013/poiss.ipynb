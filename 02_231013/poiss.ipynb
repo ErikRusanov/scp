{
 "cells": [
  {
   "cell_type": "code",
   "execution_count": 1,
   "id": "43b2db80-2899-462d-bd63-4a073df3f83f",
   "metadata": {},
   "outputs": [
    {
     "data": {
      "application/vnd.jupyter.widget-view+json": {
       "model_id": "ff9f5a230ed84e3994e00bad978813e0",
       "version_major": 2,
       "version_minor": 0
      },
      "text/plain": [
       "interactive(children=(IntSlider(value=100, description='Time', max=150, min=20), FloatSlider(value=10.0, descr…"
      ]
     },
     "metadata": {},
     "output_type": "display_data"
    }
   ],
   "source": [
    "import matplotlib.pyplot as plt\n",
    "import numpy as np\n",
    "from IPython.core.display_functions import display\n",
    "from IPython.display import clear_output\n",
    "from ipywidgets import IntSlider, interactive, FloatSlider, Output\n",
    "\n",
    "\n",
    "class PoissonProcessSimulator:\n",
    "    def __init__(self):\n",
    "        self.interval = IntSlider(value=100, min=20, max=150, step=1, description=\"Time\")\n",
    "        self.param = FloatSlider(value=10, min=0.1, max=20, step=0.1, description=\"λ\")\n",
    "\n",
    "        self.interactive_plot = interactive(\n",
    "            self.update_plot,\n",
    "            interval=self.interval,\n",
    "            param=self.param,\n",
    "        )\n",
    "\n",
    "    @staticmethod\n",
    "    def simulate_process(interval: int, param: float):\n",
    "        segments = []\n",
    "        number = 0\n",
    "        while True:\n",
    "            number += 1\n",
    "            start_time = 0 if not segments else segments[-1][0][1]\n",
    "            end_time = start_time + np.random.poisson(param)\n",
    "            if end_time > interval:\n",
    "                break\n",
    "\n",
    "            segments.append([(start_time, end_time), (number, number)])\n",
    "        return segments\n",
    "\n",
    "    def update_plot(self, interval: int, param: float):\n",
    "        clear_output(wait=True)\n",
    "        output_plot = Output()\n",
    "        with output_plot:\n",
    "            plt.figure(figsize=(10, 6))\n",
    "            for data in self.simulate_process(interval, param):\n",
    "                plt.plot(*data)\n",
    "\n",
    "            plt.xlabel('Time')\n",
    "            plt.ylabel('N')\n",
    "            plt.title(f'Poisson Process λ = {param}')\n",
    "            plt.show()\n",
    "        display(output_plot)\n",
    "\n",
    "\n",
    "if __name__ == \"__main__\":\n",
    "    simulator = PoissonProcessSimulator()\n",
    "    display(simulator.interactive_plot)\n"
   ]
  },
  {
   "cell_type": "code",
   "execution_count": null,
   "id": "5f8144d5-45cf-4bce-ba99-2e89fd22f0aa",
   "metadata": {},
   "outputs": [],
   "source": []
  },
  {
   "cell_type": "code",
   "execution_count": null,
   "id": "96962632-5e06-48e2-b3b8-a501ae40f653",
   "metadata": {},
   "outputs": [],
   "source": []
  }
 ],
 "metadata": {
  "kernelspec": {
   "display_name": "Python 3 (ipykernel)",
   "language": "python",
   "name": "python3"
  },
  "language_info": {
   "codemirror_mode": {
    "name": "ipython",
    "version": 3
   },
   "file_extension": ".py",
   "mimetype": "text/x-python",
   "name": "python",
   "nbconvert_exporter": "python",
   "pygments_lexer": "ipython3",
   "version": "3.10.12"
  }
 },
 "nbformat": 4,
 "nbformat_minor": 5
}
